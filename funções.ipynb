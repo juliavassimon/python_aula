{
  "nbformat": 4,
  "nbformat_minor": 0,
  "metadata": {
    "colab": {
      "provenance": [],
      "authorship_tag": "ABX9TyNH68WxklwScjHeQWdmK+SD",
      "include_colab_link": true
    },
    "kernelspec": {
      "name": "python3",
      "display_name": "Python 3"
    },
    "language_info": {
      "name": "python"
    }
  },
  "cells": [
    {
      "cell_type": "markdown",
      "metadata": {
        "id": "view-in-github",
        "colab_type": "text"
      },
      "source": [
        "<a href=\"https://colab.research.google.com/github/juliavassimon/python_aula/blob/main/fun%C3%A7%C3%B5es.ipynb\" target=\"_parent\"><img src=\"https://colab.research.google.com/assets/colab-badge.svg\" alt=\"Open In Colab\"/></a>"
      ]
    },
    {
      "cell_type": "code",
      "execution_count": 2,
      "metadata": {
        "colab": {
          "base_uri": "https://localhost:8080/"
        },
        "id": "1mw8hEPls4ST",
        "outputId": "b7c19dcc-07da-4a82-f61f-1c3b6711572f"
      },
      "outputs": [
        {
          "output_type": "stream",
          "name": "stdout",
          "text": [
            "Digite seu nome: julia dani marina\n",
            "['julia dani marina']\n"
          ]
        }
      ],
      "source": [
        "#string é um bloco de dados que não se altera\n",
        "#função que cria uma lista\n",
        "nome = input(\"Digite seu nome: \").split(\";\")\n",
        "print(nome)"
      ]
    },
    {
      "cell_type": "code",
      "source": [
        "#função que retorna a string alterada, a original não altera.\n",
        "nome = \"Carol Maria\"\n",
        "nome1 = nome.replace(\"Carol\",\"Aurora\") #primeiro é o original e o segundo é o quer  substituir\n",
        "print(nome1)\n"
      ],
      "metadata": {
        "id": "ejQvlXyRtgNv"
      },
      "execution_count": null,
      "outputs": []
    },
    {
      "cell_type": "code",
      "source": [
        "#função que coloca um conjunto de string em letra maiuscula\n",
        "nome = \"Carol Maria\"\n",
        "nome1 = nome.upper()\n",
        "print(nome1)"
      ],
      "metadata": {
        "id": "uT9p_rr1tl-D"
      },
      "execution_count": null,
      "outputs": []
    },
    {
      "cell_type": "code",
      "source": [
        "#função que faz a string ficar em minusculo\n",
        "nome = \"Carol Maria\"\n",
        "nome1 = nome.lower()\n",
        "print(nome1)"
      ],
      "metadata": {
        "id": "XKpLIz9ht1qc"
      },
      "execution_count": null,
      "outputs": []
    },
    {
      "cell_type": "code",
      "source": [
        "#função que conta quantas vezes uma string apareceu\n",
        "nome = \"Futebol Brasileiro Futebol Carioca\"\n",
        "print(nome.count(\"Futebol\")) #passando parametro"
      ],
      "metadata": {
        "colab": {
          "base_uri": "https://localhost:8080/"
        },
        "id": "SiCv7-a2t68q",
        "outputId": "e47a722f-ce15-4246-cafe-616f22dda070"
      },
      "execution_count": 6,
      "outputs": [
        {
          "output_type": "stream",
          "name": "stdout",
          "text": [
            "2\n"
          ]
        }
      ]
    },
    {
      "cell_type": "code",
      "source": [
        "#função que retorna o tamanho da string = len()\n",
        "nome = \"Carol Maria\"\n",
        "print(len(nome))"
      ],
      "metadata": {
        "colab": {
          "base_uri": "https://localhost:8080/"
        },
        "id": "Zhf-PzccvWlK",
        "outputId": "8a65dea3-6299-4baa-c484-9a597d6a35e7"
      },
      "execution_count": 7,
      "outputs": [
        {
          "output_type": "stream",
          "name": "stdout",
          "text": [
            "11\n"
          ]
        }
      ]
    },
    {
      "cell_type": "code",
      "source": [
        "#função que formar uma frase com as palavras que estão na lista\n",
        "lista = [\"Arroz\", \"feijão\", \"farinha\"]\n",
        "texto = \", \".join(lista)\n",
        "print(texto)"
      ],
      "metadata": {
        "colab": {
          "base_uri": "https://localhost:8080/"
        },
        "id": "aYExQqocwXW0",
        "outputId": "d5a79234-7539-484e-ff4f-b1dc71d0c159"
      },
      "execution_count": 9,
      "outputs": [
        {
          "output_type": "stream",
          "name": "stdout",
          "text": [
            "Arroz, feijão, farinha\n"
          ]
        }
      ]
    },
    {
      "cell_type": "code",
      "source": [
        "#junta as string da lista dentro do arquivo\n",
        "lista = [\"Arroz\", \"feijão\", \"farinha\"]\n",
        "texto = \"\".join(lista)\n",
        "with open('texto.txt', \"w\") as arquivo:\n",
        "    arquivo.write(texto)"
      ],
      "metadata": {
        "id": "0pn-AKZpwip7"
      },
      "execution_count": 12,
      "outputs": []
    },
    {
      "cell_type": "code",
      "source": [
        "#função para verificar se uma string possui numeros e letras\n",
        "nome = \"2389 abc\"\n",
        "nome1 = \"238\"\n",
        "print(nome.isalnum())\n",
        "print(nome1.isalnum())\n"
      ],
      "metadata": {
        "id": "ghU3e7ne0LmY"
      },
      "execution_count": null,
      "outputs": []
    },
    {
      "cell_type": "code",
      "source": [
        "#função para verificar se tem somente letras\n",
        "nome = \"2389abc\"\n",
        "nome1 = \"_abc\"\n",
        "nome2 = \"adc\"\n",
        "print(nome.isalpha())\n",
        "print(nome1.isalpha())\n",
        "print(nome2.isalpha())"
      ],
      "metadata": {
        "id": "f4tgkoh40yoR"
      },
      "execution_count": null,
      "outputs": []
    },
    {
      "cell_type": "code",
      "source": [
        "#exercicio 1\n",
        "def inverte():\n",
        "  arquivo = open(\"cadeia.txt\", 'r')\n",
        "  cadeia = arquivo.read()\n",
        "  cadeia_invertida = cadeia[::-1]\n",
        "  print(cadeia)\n",
        "  print(cadeia_invertida)\n",
        "inverte()"
      ],
      "metadata": {
        "colab": {
          "base_uri": "https://localhost:8080/"
        },
        "id": "sMEJR2luAcjh",
        "outputId": "83db0714-3dc8-4c9b-ec2c-f74798024615"
      },
      "execution_count": 45,
      "outputs": [
        {
          "output_type": "stream",
          "name": "stdout",
          "text": [
            "AATCTGCAC\n",
            "\n",
            "\n",
            "CACGTCTAA\n"
          ]
        }
      ]
    },
    {
      "cell_type": "code",
      "source": [
        "#exercicio 2\n",
        "import re\n",
        "with open(\"texto.txt\", \"r\") as arquivo:\n",
        "    texto =  arquivo.read()\n",
        "palavras = re.findall(r'\\w+', texto)\n",
        "quantidade_palavra = len(palavras)\n",
        "print(f\"A quantidade de palavras no arquivo é {quantidade_palavra}\")"
      ],
      "metadata": {
        "colab": {
          "base_uri": "https://localhost:8080/"
        },
        "id": "NHYvJR1d3baX",
        "outputId": "3f34a39d-6761-4df1-8577-cbbe8159a2b5"
      },
      "execution_count": 29,
      "outputs": [
        {
          "output_type": "stream",
          "name": "stdout",
          "text": [
            "A quantidade de palavras no arquivo é 4\n"
          ]
        }
      ]
    },
    {
      "cell_type": "code",
      "source": [
        "#exercicio 3\n",
        "import re\n",
        "with open(\"texto.txt\", \"r\") as arquivo:\n",
        "    texto =  arquivo.read()\n",
        "texto_modificado = texto.replace(\" \", \"_\")\n",
        "with open(\"arquivo_modificado.txt\", \"w\") as arquivo_modificado:\n",
        "    arquivo_modificado.write(texto_modificado)\n",
        "print(\"Espaços substituidos por _\")"
      ],
      "metadata": {
        "colab": {
          "base_uri": "https://localhost:8080/"
        },
        "id": "Peac_wal7WpQ",
        "outputId": "8ad5cb24-278f-4a8b-acf1-af8e68d6852b"
      },
      "execution_count": 23,
      "outputs": [
        {
          "output_type": "stream",
          "name": "stdout",
          "text": [
            "Espaços substituidos por _\n"
          ]
        }
      ]
    },
    {
      "cell_type": "code",
      "source": [
        "#exercicio 4\n",
        "with open('texto.txt', \"r\") as arquivo:\n",
        "    texto = arquivo.read()\n",
        "palavras = texto.replace(\"\\n\",\" \").split(\" \")\n",
        "palavras_unicas = set(palavras)\n",
        "palavras_lista = list(palavras_unicas)\n",
        "print(\"Palavras únicas encontradas: \")\n",
        "print(palavras_lista)\n",
        "\n",
        "\n",
        ""
      ],
      "metadata": {
        "colab": {
          "base_uri": "https://localhost:8080/"
        },
        "id": "ADUYvlz383w-",
        "outputId": "e4f7ec68-826a-4717-d118-ba942756d528"
      },
      "execution_count": 28,
      "outputs": [
        {
          "output_type": "stream",
          "name": "stdout",
          "text": [
            "Palavras únicas encontradas: \n",
            "['dani']\n"
          ]
        }
      ]
    }
  ]
}