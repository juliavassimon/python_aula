{
  "nbformat": 4,
  "nbformat_minor": 0,
  "metadata": {
    "colab": {
      "provenance": [],
      "authorship_tag": "ABX9TyPAy9ir+YdUe7OKglKp7xzS",
      "include_colab_link": true
    },
    "kernelspec": {
      "name": "python3",
      "display_name": "Python 3"
    },
    "language_info": {
      "name": "python"
    }
  },
  "cells": [
    {
      "cell_type": "markdown",
      "metadata": {
        "id": "view-in-github",
        "colab_type": "text"
      },
      "source": [
        "<a href=\"https://colab.research.google.com/github/juliavassimon/python_aula/blob/main/PySparks.ipynb\" target=\"_parent\"><img src=\"https://colab.research.google.com/assets/colab-badge.svg\" alt=\"Open In Colab\"/></a>"
      ]
    },
    {
      "cell_type": "code",
      "execution_count": 5,
      "metadata": {
        "colab": {
          "base_uri": "https://localhost:8080/"
        },
        "id": "oy3qPOHdQU91",
        "outputId": "ca092910-0fa3-4fde-b857-f404fcc711fa"
      },
      "outputs": [
        {
          "output_type": "stream",
          "name": "stdout",
          "text": [
            "<class 'numpy.ndarray'>\n",
            "[1 2 3 4 5 6]\n"
          ]
        }
      ],
      "source": [
        "#numpy trabalha com array (matrizes)\n",
        "#precisa instalar a biblioteca\n",
        "#dados homogeneos (dados SQL)\n",
        "import numpy as np\n",
        "data = [1,2,3,4,5,6] #isso é uma lista\n",
        "array = np.array(data)\n",
        "print(type(array))\n",
        "print(array)\n"
      ]
    },
    {
      "cell_type": "code",
      "source": [
        "import numpy as np\n",
        "data = [[1,2,3],[4,5,6]] #isso é um vetor dimensional (matriz)\n",
        "array = np.array(data)\n",
        "print(type(array)) #função type é usada para saber q tipo se trata o objeto\n",
        "print(array)\n",
        "#retorna um vetor\n"
      ],
      "metadata": {
        "colab": {
          "base_uri": "https://localhost:8080/"
        },
        "id": "3_OUZMAzZLav",
        "outputId": "0ae8bc63-b64f-495f-f4d6-55dd8a1f274d"
      },
      "execution_count": 4,
      "outputs": [
        {
          "output_type": "stream",
          "name": "stdout",
          "text": [
            "<class 'numpy.ndarray'>\n",
            "[[1 2 3]\n",
            " [4 5 6]]\n"
          ]
        }
      ]
    },
    {
      "cell_type": "code",
      "source": [
        "import numpy as np\n",
        "data = [[1,2,3],[4,5,6]]\n",
        "array = np.array(data)\n",
        "#dizer quantas linhas e colunas\n",
        "print(array.ndim)\n",
        "print(array.shape)\n",
        "print(\"(Obs: 2 linhas e 3 colunas)\")"
      ],
      "metadata": {
        "colab": {
          "base_uri": "https://localhost:8080/"
        },
        "id": "VFPeFhdhaCQV",
        "outputId": "7ebe5e87-a429-4e89-d98b-f065f0f9a823"
      },
      "execution_count": 10,
      "outputs": [
        {
          "output_type": "stream",
          "name": "stdout",
          "text": [
            "2\n",
            "(2, 3)\n",
            "(Obs: 2 linhas e 3 colunas)\n"
          ]
        }
      ]
    },
    {
      "cell_type": "code",
      "source": [
        "#mesma coisa que o anterior\n",
        "import numpy as np\n",
        "\n",
        "arr = [[1,2,3],[4,5,6]]\n",
        "dimension = np.ndim(arr) #array com parametro\n",
        "print(dimension)\n"
      ],
      "metadata": {
        "colab": {
          "base_uri": "https://localhost:8080/"
        },
        "id": "SANaZvcTb0t4",
        "outputId": "bf9d60f8-24ea-4471-fd94-3b967058ccf1"
      },
      "execution_count": 11,
      "outputs": [
        {
          "output_type": "stream",
          "name": "stdout",
          "text": [
            "2\n"
          ]
        }
      ]
    },
    {
      "cell_type": "code",
      "source": [
        "#abastecedo os array\n",
        "import numpy as np\n",
        "print(np.zeros(10))\n",
        "print(np.ones(10))\n",
        "print(np.arange(20))"
      ],
      "metadata": {
        "colab": {
          "base_uri": "https://localhost:8080/"
        },
        "id": "-CwA14J4dCA2",
        "outputId": "f36abddd-0ebc-44d2-a976-8961c0cc47c7"
      },
      "execution_count": 13,
      "outputs": [
        {
          "output_type": "stream",
          "name": "stdout",
          "text": [
            "[0. 0. 0. 0. 0. 0. 0. 0. 0. 0.]\n",
            "[1. 1. 1. 1. 1. 1. 1. 1. 1. 1.]\n",
            "[ 0  1  2  3  4  5  6  7  8  9 10 11 12 13 14 15 16 17 18 19]\n"
          ]
        }
      ]
    },
    {
      "cell_type": "code",
      "source": [
        "#arange (inicio, fim e quantidade de saltos)\n",
        "#arange é o range junto com o objeto\n",
        "import numpy as np\n",
        "print(np.arange(0,10,1))\n",
        "print(np.arange(0,10,2))\n",
        "print(np.arange(0,10,3))\n"
      ],
      "metadata": {
        "id": "TLm-JMtqeVfL"
      },
      "execution_count": null,
      "outputs": []
    },
    {
      "cell_type": "code",
      "source": [
        "#geração de numeros aleatorios\n",
        "#e cada um do numero ele coloca em um vetor\n",
        "import numpy as np\n",
        "print(np.random.rand(1))\n",
        "print(np.random.rand(2))\n",
        "print(np.random.rand(3))"
      ],
      "metadata": {
        "id": "dlTez8tSfTff"
      },
      "execution_count": null,
      "outputs": []
    },
    {
      "cell_type": "code",
      "source": [
        "#mesma coisa, mas com linhas e colunas\n",
        "import numpy as np\n",
        "print(np.random.rand(1))\n",
        "print(np.random.rand(2))"
      ],
      "metadata": {
        "id": "fqvrrrzAf74W"
      },
      "execution_count": null,
      "outputs": []
    },
    {
      "cell_type": "code",
      "source": [
        "#randint = gera numeros inteiros\n",
        "#gera uma array de 6 elementos com numero inteiros ate o valor 100\n",
        "import numpy as np\n",
        "x = np.random.randint(100, size =(6))\n",
        "print(x)"
      ],
      "metadata": {
        "colab": {
          "base_uri": "https://localhost:8080/"
        },
        "id": "964RJXwXg27k",
        "outputId": "a95e0911-1c56-4c5d-cbd6-ea676019487c"
      },
      "execution_count": 21,
      "outputs": [
        {
          "output_type": "stream",
          "name": "stdout",
          "text": [
            "[71 30 64 80 29  1]\n"
          ]
        }
      ]
    },
    {
      "cell_type": "code",
      "source": [
        "#computador é incapaz de gerar numeros aleatorios, ele pega valores na memoria ou no registrador...."
      ],
      "metadata": {
        "id": "GDTpK_pfheVg"
      },
      "execution_count": null,
      "outputs": []
    },
    {
      "cell_type": "code",
      "source": [
        "#usado para pegar a maior moda, media...\n",
        "#vai pegar o maior e o menor numero do array\n",
        "import numpy as np\n",
        "vetor = np.random.randint(100, size = (3))\n",
        "print(vetor)\n",
        "print(vetor.max())\n",
        "print(vetor.min())\n"
      ],
      "metadata": {
        "colab": {
          "base_uri": "https://localhost:8080/"
        },
        "id": "GVx-Mx8NgKkk",
        "outputId": "90890cbb-80d6-4d5b-964e-bdcdf49eb9a5"
      },
      "execution_count": 22,
      "outputs": [
        {
          "output_type": "stream",
          "name": "stdout",
          "text": [
            "[64 21 26]\n",
            "64\n",
            "21\n"
          ]
        }
      ]
    },
    {
      "cell_type": "code",
      "source": [
        "#gerar um vetor aleatorio usa a função dtype para saber de que tipo é o dado\n",
        "import numpy as np\n",
        "vetor = np.random.rand(3)\n",
        "print(vetor.dtype)\n"
      ],
      "metadata": {
        "colab": {
          "base_uri": "https://localhost:8080/"
        },
        "id": "2iWNTFlGi_yj",
        "outputId": "51c414ad-f18c-48d6-cc5b-fe63fd92f800"
      },
      "execution_count": 23,
      "outputs": [
        {
          "output_type": "stream",
          "name": "stdout",
          "text": [
            "float64\n"
          ]
        }
      ]
    },
    {
      "cell_type": "code",
      "source": [
        "import numpy as np\n",
        "vetor = np.arange(3)\n",
        "print(vetor.dtype)"
      ],
      "metadata": {
        "colab": {
          "base_uri": "https://localhost:8080/"
        },
        "id": "qQYXoLqejSIg",
        "outputId": "aab09bac-fba8-41ef-9a9d-f84007af48b6"
      },
      "execution_count": 24,
      "outputs": [
        {
          "output_type": "stream",
          "name": "stdout",
          "text": [
            "int64\n"
          ]
        }
      ]
    },
    {
      "cell_type": "code",
      "source": [
        "#ajuda em limpeza de tabela\n",
        "#tipo de dado homogeneo\n",
        "#substituir uma parte do vetor\n",
        "import numpy as np\n",
        "vetor = np.arange(1,20,1)\n",
        "print(vetor)\n",
        "vetor[1:6] = 20\n",
        "print(vetor)"
      ],
      "metadata": {
        "colab": {
          "base_uri": "https://localhost:8080/"
        },
        "id": "DshaOuh0kB8j",
        "outputId": "0e7c797a-4761-435a-df8a-f8dac6437269"
      },
      "execution_count": 25,
      "outputs": [
        {
          "output_type": "stream",
          "name": "stdout",
          "text": [
            "[ 1  2  3  4  5  6  7  8  9 10 11 12 13 14 15 16 17 18 19]\n",
            "[ 1 20 20 20 20 20  7  8  9 10 11 12 13 14 15 16 17 18 19]\n"
          ]
        }
      ]
    },
    {
      "cell_type": "code",
      "source": [
        "#pegar uma parte do vetor e coloca em outro vetor\n",
        "import numpy as np\n",
        "vetor = np.arange(1,20,1)\n",
        "print(vetor)\n",
        "vetor1 = vetor[1:6]\n",
        "print(vetor1)"
      ],
      "metadata": {
        "colab": {
          "base_uri": "https://localhost:8080/"
        },
        "id": "NZ8d_s40k4Xw",
        "outputId": "b648a3e0-f5a3-42f3-ed99-d4c2d5de5602"
      },
      "execution_count": 26,
      "outputs": [
        {
          "output_type": "stream",
          "name": "stdout",
          "text": [
            "[ 1  2  3  4  5  6  7  8  9 10 11 12 13 14 15 16 17 18 19]\n",
            "[2 3 4 5 6]\n"
          ]
        }
      ]
    },
    {
      "cell_type": "code",
      "source": [
        "#calculo matematico\n",
        "import numpy as np\n",
        "vetor = np.arange(4)\n",
        "print(np.exp(vetor)) #calcula a exponenciação\n",
        "print(np.sqrt(vetor)) #calcula o quadrado\n"
      ],
      "metadata": {
        "colab": {
          "base_uri": "https://localhost:8080/"
        },
        "id": "Ul8PcwIUlN8s",
        "outputId": "830e4d10-2380-4b15-8479-3daf9d2e1fd0"
      },
      "execution_count": 27,
      "outputs": [
        {
          "output_type": "stream",
          "name": "stdout",
          "text": [
            "[ 1.          2.71828183  7.3890561  20.08553692]\n",
            "[0.         1.         1.41421356 1.73205081]\n"
          ]
        }
      ]
    },
    {
      "cell_type": "code",
      "source": [
        "#ler um array que esta no arq txt\n",
        "#\"nan\" é dado não reconhecido\n",
        "#pegar dados do powerBI\n",
        "import numpy as np\n",
        "from numpy import genfromtxt\n",
        "data = genfromtxt('array.txt', delimiter = \",\")\n",
        "print(data)"
      ],
      "metadata": {
        "colab": {
          "base_uri": "https://localhost:8080/"
        },
        "id": "LvYAZDv_l18S",
        "outputId": "7c0c85e1-615a-491c-e058-ce26921bd2e1"
      },
      "execution_count": 35,
      "outputs": [
        {
          "output_type": "stream",
          "name": "stdout",
          "text": [
            "[[1. 2. 3.]\n",
            " [4. 5. 6.]\n",
            " [7. 8. 9.]]\n"
          ]
        }
      ]
    },
    {
      "cell_type": "code",
      "source": [
        "#indica o tipo de dados q vai pra dentro do vetor e um delimitador\n",
        "import numpy as np\n",
        "data = np.loadtxt(\"array.txt\", dtype=int, delimiter = \",\")\n",
        "print(data)"
      ],
      "metadata": {
        "colab": {
          "base_uri": "https://localhost:8080/"
        },
        "id": "Ttix2e0Sobq0",
        "outputId": "cf928882-22bf-425a-edbb-6246010a65fa"
      },
      "execution_count": 38,
      "outputs": [
        {
          "output_type": "stream",
          "name": "stdout",
          "text": [
            "[[1 2 3]\n",
            " [4 5 6]\n",
            " [7 8 9]]\n"
          ]
        }
      ]
    }
  ]
}