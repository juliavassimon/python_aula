{
  "nbformat": 4,
  "nbformat_minor": 0,
  "metadata": {
    "colab": {
      "provenance": [],
      "authorship_tag": "ABX9TyNKJFlpUzuDfAp2dJ16stgr",
      "include_colab_link": true
    },
    "kernelspec": {
      "name": "python3",
      "display_name": "Python 3"
    },
    "language_info": {
      "name": "python"
    }
  },
  "cells": [
    {
      "cell_type": "markdown",
      "metadata": {
        "id": "view-in-github",
        "colab_type": "text"
      },
      "source": [
        "<a href=\"https://colab.research.google.com/github/juliavassimon/python_aula/blob/main/pandas_python.ipynb\" target=\"_parent\"><img src=\"https://colab.research.google.com/assets/colab-badge.svg\" alt=\"Open In Colab\"/></a>"
      ]
    },
    {
      "cell_type": "code",
      "execution_count": null,
      "metadata": {
        "id": "q6WPvRKySihV"
      },
      "outputs": [],
      "source": [
        "#documentação\n",
        "#https://pandas.pydata.org/docs/index.html"
      ]
    },
    {
      "cell_type": "code",
      "source": [
        "import pandas as pd\n",
        "#transformar uma lista de notas em series\n",
        "#verificar que tipo de dados é o objeto = type(df)\n",
        "notas = pd.Series([2,7,5,10,6,20])\n",
        "notas"
      ],
      "metadata": {
        "colab": {
          "base_uri": "https://localhost:8080/"
        },
        "id": "DR-1xTxbXe53",
        "outputId": "1612a1b4-64be-49a2-b7c2-baf3bba7585d"
      },
      "execution_count": 4,
      "outputs": [
        {
          "output_type": "execute_result",
          "data": {
            "text/plain": [
              "RangeIndex(start=0, stop=6, step=1)"
            ]
          },
          "metadata": {},
          "execution_count": 4
        }
      ]
    },
    {
      "cell_type": "code",
      "source": [
        "#descobrir os index das series = variavel.index\n",
        "import pandas as pd\n",
        "notas = pd.Series([2,7,5,10,6,20])\n",
        "notas.index\n"
      ],
      "metadata": {
        "colab": {
          "base_uri": "https://localhost:8080/"
        },
        "id": "CS0AaJOvcJeb",
        "outputId": "dcd1e9d5-544f-4b59-8bc8-203f0ce95fc3"
      },
      "execution_count": 8,
      "outputs": [
        {
          "output_type": "execute_result",
          "data": {
            "text/plain": [
              "RangeIndex(start=0, stop=6, step=1)"
            ]
          },
          "metadata": {},
          "execution_count": 8
        }
      ]
    },
    {
      "cell_type": "code",
      "source": [
        "#quais são os valores que compoem o array que esta dentro da serie\n",
        "import pandas as pd\n",
        "notas = pd.Series([2,7,5,10,6,20])\n",
        "notas.values"
      ],
      "metadata": {
        "colab": {
          "base_uri": "https://localhost:8080/"
        },
        "id": "q3GwxM2Cc1OK",
        "outputId": "d593dc15-5796-46e0-8bb7-4e1aabb2338b"
      },
      "execution_count": 6,
      "outputs": [
        {
          "output_type": "execute_result",
          "data": {
            "text/plain": [
              "array([ 2,  7,  5, 10,  6, 20])"
            ]
          },
          "metadata": {},
          "execution_count": 6
        }
      ]
    },
    {
      "cell_type": "code",
      "source": [
        "#retorna a quantidade de elementos do inicio ate o valor desejado em parametros\n",
        "import pandas as pd\n",
        "notas = pd.Series([2,7,5,10,6,20])\n",
        "notas.head(n=3)"
      ],
      "metadata": {
        "id": "F_zHPTGrc9aw"
      },
      "execution_count": null,
      "outputs": []
    },
    {
      "cell_type": "code",
      "source": [
        "#retorna as ultimas linhas da series\n",
        "import pandas as pd\n",
        "notas = pd.Series([2,7,5,10,6,20])\n",
        "notas.tail(n=5) #ou tail(5)"
      ],
      "metadata": {
        "id": "isZ8tZ5TdS-n"
      },
      "execution_count": null,
      "outputs": []
    },
    {
      "cell_type": "code",
      "source": [
        "#metodo/função quantas linhas e colunas tem a serie/dataframe\n",
        "#serie é só uma coluna, então só retorna a quantidades de linhas\n",
        "import pandas as pd\n",
        "notas = pd.Series([2,7,5,10,6,20])\n",
        "notas.shape"
      ],
      "metadata": {
        "id": "wzNkhgoBdxog"
      },
      "execution_count": null,
      "outputs": []
    },
    {
      "cell_type": "code",
      "source": [
        "import pandas as pd\n",
        "notas = pd.Series([2,7,5,10,6,20])\n",
        "notas.index\n",
        "notas.values\n",
        "notas.head(n=3)\n",
        "notas.shape\n",
        "notas.tail(n=5)"
      ],
      "metadata": {
        "id": "r12EU-96e2vY"
      },
      "execution_count": null,
      "outputs": []
    },
    {
      "cell_type": "code",
      "source": [
        "#com dataframe\n",
        "import pandas as pd\n",
        "a = [['a','1.2', '4,2'], ['b', '70', '0.30'], ['x', '5', '0']]\n",
        "#columns = nome das colunas\n",
        "#os rotulos das lnhas é automatico (pode mudar, mas não é recomendado)\n",
        "df = pd.DataFrame(a, columns = ['one', 'two', 'three'])\n",
        "df"
      ],
      "metadata": {
        "id": "00cJtBGSeDsH"
      },
      "execution_count": null,
      "outputs": []
    },
    {
      "cell_type": "code",
      "source": [
        "#converter os tipos de dados\n",
        "#colunas two e three vai deixar de string para ser float\n",
        "import pandas as pd\n",
        "a = [['a','1.2', '4.2'], ['b', '70', '0.30'], ['x', '5', '0']]\n",
        "df = pd.DataFrame(a, columns = ['one', 'two', 'three'])\n",
        "df [['two', 'three']] = df[['two', 'three']].astype(float)\n",
        "#info é todas as informações da tabela criada\n",
        "df.info()"
      ],
      "metadata": {
        "id": "8ZLBvkKnfpTB"
      },
      "execution_count": null,
      "outputs": []
    },
    {
      "cell_type": "code",
      "source": [
        "#ler os dados no formato de csv\n",
        "#ler dados do github\n",
        "import pandas as pd\n",
        "df = pd.read_csv('https://raw.githubusercontent.com/juliavassimon/dados_python/main/pandas')\n",
        "df"
      ],
      "metadata": {
        "id": "f8DZPHcTg3oF"
      },
      "execution_count": null,
      "outputs": []
    },
    {
      "cell_type": "code",
      "source": [
        "#ler os dados no formato de csv\n",
        "import pandas as pd\n",
        "df = pd.read_csv('https://raw.githubusercontent.com/juliavassimon/dados_python/main/base_de_dados.csv', sep = ';')\n",
        "df.index\n",
        "df.values"
      ],
      "metadata": {
        "id": "Fg03g-JZjhhG"
      },
      "execution_count": null,
      "outputs": []
    },
    {
      "cell_type": "code",
      "source": [
        "#ler os dados no formato de csv\n",
        "import pandas as pd\n",
        "df = pd.read_csv('https://raw.githubusercontent.com/juliavassimon/dados_python/main/base_de_dados.csv', sep = ';')\n",
        "#limpeza das tabelas = .head()\n",
        "df.head(n=8)\n",
        "df.info()\n"
      ],
      "metadata": {
        "id": "Ugt49CRMo3qI"
      },
      "execution_count": null,
      "outputs": []
    },
    {
      "cell_type": "code",
      "source": [
        "#somente as colunas\n",
        "df = pd.read_csv('https://raw.githubusercontent.com/juliavassimon/dados_python/main/base_de_dados.csv', sep = ';')\n",
        "df.columns"
      ],
      "metadata": {
        "id": "Z5rdSdCLqMR0"
      },
      "execution_count": null,
      "outputs": []
    },
    {
      "cell_type": "code",
      "source": [
        "#colocando nome como se fosse nome de variaveis\n",
        "import pandas as pd\n",
        "df = pd.read_csv('https://raw.githubusercontent.com/juliavassimon/dados_python/main/base_de_dados.csv', sep = ';')\n",
        "df.columns = [['id', 'data_aq', 'produto', 'quantidade', 'valor_un', 'valor_total', 'setor']]\n",
        "df.head(n=5)"
      ],
      "metadata": {
        "id": "kKgqoz86qtc8"
      },
      "execution_count": null,
      "outputs": []
    },
    {
      "cell_type": "code",
      "source": [
        "#conversão da tabela só funciona se for dataframe\n",
        "import pandas as pd\n",
        "df = pd.read_csv('https://raw.githubusercontent.com/juliavassimon/dados_python/main/base_de_dados.csv', sep = ';')\n",
        "#mas comum\n",
        "print(df.to_html())\n",
        "#pode ter string, html, json, dict"
      ],
      "metadata": {
        "id": "IRnuxiq8rdnb"
      },
      "execution_count": null,
      "outputs": []
    },
    {
      "cell_type": "code",
      "source": [
        "#string\n",
        "import pandas as pd\n",
        "df = pd.read_csv('https://raw.githubusercontent.com/juliavassimon/dados_python/main/base_de_dados.csv', sep = ';')\n",
        "print(df.to_string())"
      ],
      "metadata": {
        "id": "cZQ2ckD4rxIv"
      },
      "execution_count": null,
      "outputs": []
    },
    {
      "cell_type": "code",
      "source": [
        "#json\n",
        "import pandas as pd\n",
        "df = pd.read_csv('https://raw.githubusercontent.com/juliavassimon/dados_python/main/base_de_dados.csv', sep = ';')\n",
        "print(df.to_json())"
      ],
      "metadata": {
        "id": "-TCntO5Qr-34"
      },
      "execution_count": null,
      "outputs": []
    },
    {
      "cell_type": "code",
      "source": [
        "#dict\n",
        "import pandas as pd\n",
        "df = pd.read_csv('https://raw.githubusercontent.com/juliavassimon/dados_python/main/base_de_dados.csv', sep = ';')\n",
        "print(df.to_dict())"
      ],
      "metadata": {
        "id": "L8TqjRL5sFXu"
      },
      "execution_count": null,
      "outputs": []
    },
    {
      "cell_type": "code",
      "source": [
        "#colunas individuais no pandas\n",
        "\n",
        "import pandas as pd\n",
        "df = pd.read_csv('https://raw.githubusercontent.com/juliavassimon/dados_python/main/base_de_dados.csv', sep = ';')\n",
        "df['setor'].unique()#dados unicos, retirar os dados que se repetem\n"
      ],
      "metadata": {
        "colab": {
          "base_uri": "https://localhost:8080/"
        },
        "id": "-9400n2UshRN",
        "outputId": "5b63fee9-e150-4d10-9058-2c0363644e22"
      },
      "execution_count": 37,
      "outputs": [
        {
          "output_type": "execute_result",
          "data": {
            "text/plain": [
              "array(['Mesa_banho', '--', 'mesa_banho', 'nada', 'mesa_Banho', nan,\n",
              "       'perfumaria', 'informatica', 'Informatica', 'informaticA',\n",
              "       'brinquedos', 'brinquEdos', 'Brinquedos'], dtype=object)"
            ]
          },
          "metadata": {},
          "execution_count": 37
        }
      ]
    },
    {
      "cell_type": "code",
      "source": [
        "#atividade para fazer\n",
        "#lambda\n",
        "#mapeamento\n",
        "#Desafio 1 – Seja o Dataframe do exemplo da aula de hoje.\n",
        "#Considerando que o Python é Case sensitive, os dados únicos de uma\n",
        "#coluna devem ser consertados, exemplo ‘brinquedo’ é a mesma coisa\n",
        "#que ‘brinqueDo’. No desafio, deve-se consertar essas strings da\n",
        "#coluna 'setor’."
      ],
      "metadata": {
        "id": "dYwjP0Y-tg8X"
      },
      "execution_count": null,
      "outputs": []
    },
    {
      "cell_type": "code",
      "source": [
        "#contar os dados de uma coluna\n",
        "import pandas as pd\n",
        "df = pd.read_csv('https://raw.githubusercontent.com/juliavassimon/dados_python/main/base_de_dados.csv', sep = ';')\n",
        "df['setor'].value_counts()"
      ],
      "metadata": {
        "id": "w03DRlwYs4Et"
      },
      "execution_count": null,
      "outputs": []
    },
    {
      "cell_type": "code",
      "source": [
        "#ordena em ordem crescente ou descente\n",
        "import pandas as pd\n",
        "df = pd.read_csv('https://raw.githubusercontent.com/juliavassimon/dados_python/main/base_de_dados.csv', sep = ';')\n",
        "df['setor'].value_counts().sort_values(ascending = True)\n"
      ],
      "metadata": {
        "id": "jKkV7a0xuCbF"
      },
      "execution_count": null,
      "outputs": []
    },
    {
      "cell_type": "code",
      "source": [
        "#graficos com a coluna\n",
        "#contagem com a coluna deseja\n",
        "import pandas as pd\n",
        "df = pd.read_csv('https://raw.githubusercontent.com/juliavassimon/dados_python/main/base_de_dados.csv', sep = ';')\n",
        "df['setor'].value_counts().plot(kind = 'line')"
      ],
      "metadata": {
        "id": "l9Hh35J-uP_z"
      },
      "execution_count": null,
      "outputs": []
    },
    {
      "cell_type": "code",
      "source": [
        "#graficos com a coluna\n",
        "#contagem com a coluna deseja\n",
        "import pandas as pd\n",
        "df = pd.read_csv('https://raw.githubusercontent.com/juliavassimon/dados_python/main/base_de_dados.csv', sep = ';')\n",
        "df['setor'].value_counts().plot(kind = 'bar')"
      ],
      "metadata": {
        "id": "E9NhUTBYunwp"
      },
      "execution_count": null,
      "outputs": []
    },
    {
      "cell_type": "code",
      "source": [
        "#graficos com a coluna\n",
        "#contagem com a coluna deseja\n",
        "import pandas as pd\n",
        "df = pd.read_csv('https://raw.githubusercontent.com/juliavassimon/dados_python/main/base_de_dados.csv', sep = ';')\n",
        "df['setor'].value_counts().plot(kind = 'barh')"
      ],
      "metadata": {
        "id": "jhFa9yXCuq9X"
      },
      "execution_count": null,
      "outputs": []
    }
  ]
}